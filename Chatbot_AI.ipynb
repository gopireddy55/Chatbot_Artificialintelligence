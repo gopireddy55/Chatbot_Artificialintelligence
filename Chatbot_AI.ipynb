{
  "cells": [
    {
      "cell_type": "code",
      "execution_count": null,
      "metadata": {
        "id": "nwAAiXEtdG9r"
      },
      "outputs": [],
      "source": [
        "# import basic and required libraries\n",
        "\n",
        "import numpy as np\n",
        "import json\n",
        "import re\n",
        "import tensorflow as tf\n",
        "import random\n",
        "import spacy\n",
        "nlp = spacy.load('en_core_web_sm')"
      ]
    },
    {
      "cell_type": "code",
      "execution_count": null,
      "metadata": {
        "id": "OOlWIgTedU6b"
      },
      "outputs": [],
      "source": [
        "# import json file\n",
        "\n",
        "with open('intent.json') as f:\n",
        "    intents = json.load(f)"
      ]
    },
    {
      "cell_type": "code",
      "execution_count": null,
      "metadata": {
        "id": "9ABTDSsKdiXd"
      },
      "outputs": [],
      "source": [
        "# Preprocessing data\n",
        "\n",
        "def preprocessing(line):\n",
        "    line = re.sub(r'[^a-zA-z.?!\\']', ' ', line)\n",
        "    line = re.sub(r'[ ]+', ' ', line)\n",
        "    return line"
      ]
    },
    {
      "cell_type": "code",
      "execution_count": null,
      "metadata": {
        "id": "udDP9zbOdmr2"
      },
      "outputs": [],
      "source": [
        "# get text and intent title from json data\n",
        "\n",
        "inputs, targets = [], []\n",
        "classes = []\n",
        "intent_doc = {}\n",
        "\n",
        "for intent in intents['intents']:\n",
        "    if intent['intent'] not in classes:\n",
        "        classes.append(intent['intent'])\n",
        "    if intent['intent'] not in intent_doc:\n",
        "        intent_doc[intent['intent']] = []\n",
        "        \n",
        "    for text in intent['text']:\n",
        "        inputs.append(preprocessing(text))\n",
        "        targets.append(intent['intent'])\n",
        "        \n",
        "    for response in intent['responses']:\n",
        "        intent_doc[intent['intent']].append(response)"
      ]
    },
    {
      "cell_type": "code",
      "execution_count": null,
      "metadata": {
        "id": "Jy4P1ug8g0pC"
      },
      "outputs": [],
      "source": [
        "# tokenizing the data\n",
        "\n",
        "def tokenize_data(input_list):\n",
        "    tokenizer = tf.keras.preprocessing.text.Tokenizer(filters='', oov_token='<unk>')\n",
        "    \n",
        "    tokenizer.fit_on_texts(input_list)\n",
        "    \n",
        "    input_seq = tokenizer.texts_to_sequences(input_list)\n",
        "\n",
        "    input_seq = tf.keras.preprocessing.sequence.pad_sequences(input_seq, padding='pre')\n",
        "    \n",
        "    return tokenizer, input_seq\n",
        "\n",
        "# preprocess input data\n",
        "\n",
        "tokenizer, input_tensor = tokenize_data(inputs)"
      ]
    },
    {
      "cell_type": "code",
      "execution_count": null,
      "metadata": {
        "id": "gsKOfx6tiO6i"
      },
      "outputs": [],
      "source": [
        "def create_categorical_target(targets):\n",
        "    word={}\n",
        "    categorical_target=[]\n",
        "    counter=0\n",
        "    for trg in targets:\n",
        "        if trg not in word:\n",
        "            word[trg]=counter\n",
        "            counter+=1\n",
        "        categorical_target.append(word[trg])\n",
        "    \n",
        "    categorical_tensor = tf.keras.utils.to_categorical(categorical_target, num_classes=len(word), dtype='int32')\n",
        "    return categorical_tensor, dict((v,k) for k, v in word.items())\n",
        "\n",
        "# preprocess output data\n",
        "target_tensor, trg_index_word = create_categorical_target(targets)"
      ]
    },
    {
      "cell_type": "code",
      "execution_count": null,
      "metadata": {
        "colab": {
          "base_uri": "https://localhost:8080/"
        },
        "id": "fgRpeqaAiR7s",
        "outputId": "46a47036-7ff4-49a5-da36-e6195b1d143b"
      },
      "outputs": [
        {
          "name": "stdout",
          "output_type": "stream",
          "text": [
            "input shape: (143, 9) and output shape: (143, 22)\n"
          ]
        }
      ],
      "source": [
        "print('input shape: {} and output shape: {}'.format(input_tensor.shape, target_tensor.shape))"
      ]
    },
    {
      "cell_type": "code",
      "execution_count": null,
      "metadata": {
        "id": "uzqstswTiU_u"
      },
      "outputs": [],
      "source": [
        "# hyperparameters\n",
        "epochs=50\n",
        "vocab_size=len(tokenizer.word_index) + 1\n",
        "embed_dim=512\n",
        "units=128\n",
        "target_length=target_tensor.shape[1]"
      ]
    },
    {
      "cell_type": "code",
      "execution_count": null,
      "metadata": {
        "colab": {
          "base_uri": "https://localhost:8080/"
        },
        "id": "_wsIubrUiX4V",
        "outputId": "34e7d05a-f474-4c30-8eb8-cb5d4d93d0cb"
      },
      "outputs": [
        {
          "name": "stdout",
          "output_type": "stream",
          "text": [
            "Model: \"sequential\"\n",
            "_________________________________________________________________\n",
            " Layer (type)                Output Shape              Param #   \n",
            "=================================================================\n",
            " embedding (Embedding)       (None, None, 512)         66048     \n",
            "                                                                 \n",
            " bidirectional (Bidirectiona  (None, 256)              656384    \n",
            " l)                                                              \n",
            "                                                                 \n",
            " dense (Dense)               (None, 128)               32896     \n",
            "                                                                 \n",
            " dropout (Dropout)           (None, 128)               0         \n",
            "                                                                 \n",
            " dense_1 (Dense)             (None, 22)                2838      \n",
            "                                                                 \n",
            "=================================================================\n",
            "Total params: 758,166\n",
            "Trainable params: 758,166\n",
            "Non-trainable params: 0\n",
            "_________________________________________________________________\n"
          ]
        },
        {
          "name": "stderr",
          "output_type": "stream",
          "text": [
            "/usr/local/lib/python3.7/dist-packages/keras/optimizers/optimizer_v2/adam.py:110: UserWarning: The `lr` argument is deprecated, use `learning_rate` instead.\n",
            "  super(Adam, self).__init__(name, **kwargs)\n"
          ]
        }
      ],
      "source": [
        "# build RNN Model with tensorflow\n",
        "model = tf.keras.models.Sequential([\n",
        "    tf.keras.layers.Embedding(vocab_size, embed_dim),\n",
        "    tf.keras.layers.Bidirectional(tf.keras.layers.LSTM(units, dropout=0.2)),\n",
        "    tf.keras.layers.Dense(units, activation='relu'),\n",
        "    tf.keras.layers.Dropout(0.5),\n",
        "    tf.keras.layers.Dense(target_length, activation='softmax')\n",
        "])\n",
        "\n",
        "optimizer = tf.keras.optimizers.Adam(lr=1e-2)\n",
        "model.compile(optimizer=optimizer, loss='categorical_crossentropy', metrics=['accuracy'])\n",
        "model.summary()"
      ]
    },
    {
      "cell_type": "code",
      "execution_count": null,
      "metadata": {
        "colab": {
          "base_uri": "https://localhost:8080/"
        },
        "id": "dnY-glqvieNG",
        "outputId": "90dcc322-6fc9-4714-ad9f-146c7e112fe8"
      },
      "outputs": [
        {
          "name": "stdout",
          "output_type": "stream",
          "text": [
            "Epoch 1/50\n",
            "5/5 [==============================] - 5s 66ms/step - loss: 3.1228 - accuracy: 0.0839\n",
            "Epoch 2/50\n",
            "5/5 [==============================] - 0s 68ms/step - loss: 2.6450 - accuracy: 0.3077\n",
            "Epoch 3/50\n",
            "5/5 [==============================] - 0s 68ms/step - loss: 1.8991 - accuracy: 0.4545\n",
            "Epoch 4/50\n",
            "5/5 [==============================] - 0s 66ms/step - loss: 1.3188 - accuracy: 0.6014\n",
            "Epoch 5/50\n",
            "5/5 [==============================] - 0s 66ms/step - loss: 0.6836 - accuracy: 0.7902\n",
            "Epoch 6/50\n",
            "5/5 [==============================] - 0s 71ms/step - loss: 0.4679 - accuracy: 0.8182\n",
            "Epoch 7/50\n",
            "5/5 [==============================] - 0s 67ms/step - loss: 0.2983 - accuracy: 0.9301\n",
            "Epoch 8/50\n",
            "5/5 [==============================] - 0s 65ms/step - loss: 0.3091 - accuracy: 0.8811\n",
            "Epoch 9/50\n",
            "5/5 [==============================] - 0s 67ms/step - loss: 0.1138 - accuracy: 0.9580\n",
            "Epoch 10/50\n",
            "5/5 [==============================] - 0s 67ms/step - loss: 0.0633 - accuracy: 0.9930\n",
            "Epoch 11/50\n",
            "5/5 [==============================] - 0s 66ms/step - loss: 0.0569 - accuracy: 0.9930\n",
            "Epoch 12/50\n",
            "5/5 [==============================] - 0s 65ms/step - loss: 0.0730 - accuracy: 0.9860\n",
            "Epoch 13/50\n",
            "5/5 [==============================] - 0s 65ms/step - loss: 0.0379 - accuracy: 0.9790\n",
            "Epoch 14/50\n",
            "5/5 [==============================] - 0s 65ms/step - loss: 0.0168 - accuracy: 0.9930\n",
            "Epoch 15/50\n",
            "5/5 [==============================] - 0s 66ms/step - loss: 0.0271 - accuracy: 0.9930\n",
            "Epoch 16/50\n",
            "5/5 [==============================] - 0s 66ms/step - loss: 0.0221 - accuracy: 0.9860\n",
            "Epoch 17/50\n",
            "5/5 [==============================] - 0s 72ms/step - loss: 0.0072 - accuracy: 1.0000\n",
            "Epoch 18/50\n",
            "5/5 [==============================] - 0s 69ms/step - loss: 0.0228 - accuracy: 0.9930\n",
            "Epoch 19/50\n",
            "5/5 [==============================] - 0s 65ms/step - loss: 0.0260 - accuracy: 0.9930\n",
            "Epoch 20/50\n",
            "5/5 [==============================] - 0s 63ms/step - loss: 0.0035 - accuracy: 1.0000\n",
            "Epoch 21/50\n",
            "5/5 [==============================] - 0s 69ms/step - loss: 0.0149 - accuracy: 0.9930\n",
            "Epoch 22/50\n",
            "5/5 [==============================] - 0s 69ms/step - loss: 0.0018 - accuracy: 1.0000\n",
            "Epoch 23/50\n",
            "5/5 [==============================] - 0s 65ms/step - loss: 0.0065 - accuracy: 1.0000\n",
            "Epoch 24/50\n",
            "5/5 [==============================] - 0s 67ms/step - loss: 0.0052 - accuracy: 1.0000\n",
            "Epoch 25/50\n",
            "5/5 [==============================] - 0s 69ms/step - loss: 0.0095 - accuracy: 1.0000\n",
            "Epoch 26/50\n",
            "5/5 [==============================] - 0s 62ms/step - loss: 0.0027 - accuracy: 1.0000\n"
          ]
        },
        {
          "data": {
            "text/plain": [
              "<keras.callbacks.History at 0x7f7bef118550>"
            ]
          },
          "execution_count": 14,
          "metadata": {},
          "output_type": "execute_result"
        }
      ],
      "source": [
        "early_stop = tf.keras.callbacks.EarlyStopping(monitor='loss', patience=4)\n",
        "\n",
        "# train the model\n",
        "model.fit(input_tensor, target_tensor, epochs=epochs, callbacks=[early_stop])"
      ]
    },
    {
      "cell_type": "code",
      "execution_count": null,
      "metadata": {
        "colab": {
          "background_save": true,
          "base_uri": "https://localhost:8080/"
        },
        "id": "_HxHRyCIioRz",
        "outputId": "09a6a3a1-f1b5-4c53-dcaf-d1cb88aedd5a"
      },
      "outputs": [
        {
          "name": "stdout",
          "output_type": "stream",
          "text": [
            "Note: Enter 'quit' to break the loop.\n",
            "Bot: That is not very nice -- TYPE: Swearing\n",
            "\n",
            "Bot: Please do not swear -- TYPE: Swearing\n",
            "\n",
            "Bot: Please do not swear -- TYPE: Swearing\n",
            "\n",
            "Bot: Hola human, please tell me your GeniSys user -- TYPE: Greeting\n",
            "\n"
          ]
        }
      ],
      "source": [
        "def response(sentence):\n",
        "    sent_seq = []\n",
        "    doc = nlp(repr(sentence))\n",
        "    \n",
        "    # split the input sentences into words\n",
        "    for token in doc:\n",
        "        if token.text in tokenizer.word_index:\n",
        "            sent_seq.append(tokenizer.word_index[token.text])\n",
        "\n",
        "        # handle the unknown words error\n",
        "        else:\n",
        "            sent_seq.append(tokenizer.word_index['<unk>'])\n",
        "\n",
        "    sent_seq = tf.expand_dims(sent_seq, 0)\n",
        "    # predict the category of input sentences\n",
        "    pred = model(sent_seq)\n",
        "\n",
        "    pred_class = np.argmax(pred.numpy(), axis=1)\n",
        "    \n",
        "    # choice a random response for predicted sentence\n",
        "    return random.choice(intent_doc[trg_index_word[pred_class[0]]]), trg_index_word[pred_class[0]]\n",
        "\n",
        "# chat with bot\n",
        "print(\"Note: Enter 'quit' to break the loop.\")\n",
        "while True:\n",
        "    input_ = input('You: ')\n",
        "    if input_.lower() == 'quit':\n",
        "        break\n",
        "    res, typ = response(input_)\n",
        "    print('Bot: {} -- TYPE: {}'.format(res, typ))\n",
        "    print()"
      ]
    }
  ],
  "metadata": {
    "colab": {
      "provenance": []
    },
    "kernelspec": {
      "display_name": "Python 3",
      "name": "python3"
    },
    "language_info": {
      "name": "python"
    }
  },
  "nbformat": 4,
  "nbformat_minor": 0
}